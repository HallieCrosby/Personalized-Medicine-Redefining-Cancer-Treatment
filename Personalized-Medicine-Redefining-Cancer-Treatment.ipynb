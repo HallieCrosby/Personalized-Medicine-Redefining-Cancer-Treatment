{
 "cells": [
  {
   "cell_type": "markdown",
   "metadata": {},
   "source": [
    "\n",
    "# Imports"
   ]
  },
  {
   "cell_type": "code",
   "execution_count": 55,
   "metadata": {},
   "outputs": [],
   "source": [
    "import pandas as pd\n",
    "import numpy as np\n",
    "from collections import Counter\n",
    "from sklearn.feature_extraction.text import CountVectorizer, \\\n",
    "HashingVectorizer, TfidfVectorizer\n",
    "from sklearn.decomposition import TruncatedSVD\n",
    "from sklearn.preprocessing import FunctionTransformer, OneHotEncoder\n",
    "from sklearn.metrics import log_loss\n",
    "from sklearn.model_selection import train_test_split, GridSearchCV, cross_val_score\n",
    "from sklearn.pipeline import FeatureUnion, Pipeline, make_pipeline, make_union\n",
    "from sklearn.base import BaseEstimator, TransformerMixin\n",
    "\n",
    "from nltk.corpus import stopwords\n",
    "\n",
    "from keras.wrappers.scikit_learn import KerasClassifier\n",
    "from keras.models import Sequential\n",
    "from keras.layers import Dense, Input, Dropout"
   ]
  },
  {
   "cell_type": "code",
   "execution_count": 142,
   "metadata": {
    "collapsed": true
   },
   "outputs": [],
   "source": [
    "# Trainging data\n",
    "train_var = pd.read_csv('training_variants.zip')\n",
    "train_txt = pd.read_csv('training_text.zip', sep=\"\\|\\|\", engine=\"python\", skiprows=1, names=[\"ID\", \"Text\"])\n",
    "\n",
    "# Test set 1 of 2\n",
    "test_var = pd.read_csv('test_variants.zip')\n",
    "test_txt = pd.read_csv('test_text.zip', sep=\"\\|\\|\", engine=\"python\", skiprows=1, names=[\"ID\", \"Text\"])\n",
    "df_test_target = pd.read_csv('stage1_solution_filtered.csv')\n",
    "\n",
    "# Test set 2 of 2\n",
    "test2_var = pd.read_csv('stage2_test_variants.csv')\n",
    "test2_txt = pd.read_csv('stage2_test_text.csv', sep=\"\\|\\|\", engine=\"python\", skiprows=1, names=[\"ID\", \"Text\"])\n",
    "df_test2_target = pd.read_csv('stage_2_private_solution.csv')"
   ]
  },
  {
   "cell_type": "markdown",
   "metadata": {},
   "source": [
    "# Preprocessing\n"
   ]
  },
  {
   "cell_type": "markdown",
   "metadata": {},
   "source": [
    "### Train data"
   ]
  },
  {
   "cell_type": "markdown",
   "metadata": {},
   "source": [
    "Joining variant and text training dataframes, drop null rows, and then split into X and y."
   ]
  },
  {
   "cell_type": "code",
   "execution_count": 20,
   "metadata": {
    "collapsed": true
   },
   "outputs": [],
   "source": [
    "df = train_var.merge(train_txt, on='ID')"
   ]
  },
  {
   "cell_type": "code",
   "execution_count": 21,
   "metadata": {
    "collapsed": true
   },
   "outputs": [],
   "source": [
    "df.dropna(inplace=True)"
   ]
  },
  {
   "cell_type": "code",
   "execution_count": 22,
   "metadata": {
    "collapsed": true
   },
   "outputs": [],
   "source": [
    "X = df[['Gene', 'Variation', 'Text']]"
   ]
  },
  {
   "cell_type": "code",
   "execution_count": 23,
   "metadata": {
    "collapsed": true
   },
   "outputs": [],
   "source": [
    "y = df['Class']"
   ]
  },
  {
   "cell_type": "markdown",
   "metadata": {},
   "source": [
    "Train test split"
   ]
  },
  {
   "cell_type": "code",
   "execution_count": 24,
   "metadata": {
    "collapsed": true
   },
   "outputs": [],
   "source": [
    "X_train, X_test, y_train, y_test = train_test_split(X, y, stratify=y, test_size=0.33, random_state=42)"
   ]
  },
  {
   "cell_type": "markdown",
   "metadata": {},
   "source": [
    "### Test data set 1 of 2"
   ]
  },
  {
   "cell_type": "markdown",
   "metadata": {},
   "source": [
    "EDA\n"
   ]
  },
  {
   "cell_type": "code",
   "execution_count": 25,
   "metadata": {
    "collapsed": true
   },
   "outputs": [],
   "source": [
    "# Merge Test text and Test var dataframes\n",
    "df_test = test_var.merge(test_txt, on='ID')"
   ]
  },
  {
   "cell_type": "code",
   "execution_count": 26,
   "metadata": {
    "collapsed": true
   },
   "outputs": [],
   "source": [
    "# Drop null columns\n",
    "df_test.dropna(inplace=True)"
   ]
  },
  {
   "cell_type": "code",
   "execution_count": 66,
   "metadata": {
    "collapsed": true
   },
   "outputs": [],
   "source": [
    "# Merge target with X\n",
    "df_test_reduced = df_test_target.merge(df_test, on='ID')"
   ]
  },
  {
   "cell_type": "code",
   "execution_count": 29,
   "metadata": {},
   "outputs": [
    {
     "name": "stdout",
     "output_type": "stream",
     "text": [
      "(368, 13)\n"
     ]
    },
    {
     "data": {
      "text/html": [
       "<div>\n",
       "<style>\n",
       "    .dataframe thead tr:only-child th {\n",
       "        text-align: right;\n",
       "    }\n",
       "\n",
       "    .dataframe thead th {\n",
       "        text-align: left;\n",
       "    }\n",
       "\n",
       "    .dataframe tbody tr th {\n",
       "        vertical-align: top;\n",
       "    }\n",
       "</style>\n",
       "<table border=\"1\" class=\"dataframe\">\n",
       "  <thead>\n",
       "    <tr style=\"text-align: right;\">\n",
       "      <th></th>\n",
       "      <th>ID</th>\n",
       "      <th>class1</th>\n",
       "      <th>class2</th>\n",
       "      <th>class3</th>\n",
       "      <th>class4</th>\n",
       "      <th>class5</th>\n",
       "      <th>class6</th>\n",
       "      <th>class7</th>\n",
       "      <th>class8</th>\n",
       "      <th>class9</th>\n",
       "      <th>Gene</th>\n",
       "      <th>Variation</th>\n",
       "      <th>Text</th>\n",
       "    </tr>\n",
       "  </thead>\n",
       "  <tbody>\n",
       "    <tr>\n",
       "      <th>0</th>\n",
       "      <td>12</td>\n",
       "      <td>1</td>\n",
       "      <td>0</td>\n",
       "      <td>0</td>\n",
       "      <td>0</td>\n",
       "      <td>0</td>\n",
       "      <td>0</td>\n",
       "      <td>0</td>\n",
       "      <td>0</td>\n",
       "      <td>0</td>\n",
       "      <td>TET2</td>\n",
       "      <td>Y1902A</td>\n",
       "      <td>TET proteins oxidize 5-methylcytosine (5mC) on...</td>\n",
       "    </tr>\n",
       "    <tr>\n",
       "      <th>1</th>\n",
       "      <td>19</td>\n",
       "      <td>0</td>\n",
       "      <td>1</td>\n",
       "      <td>0</td>\n",
       "      <td>0</td>\n",
       "      <td>0</td>\n",
       "      <td>0</td>\n",
       "      <td>0</td>\n",
       "      <td>0</td>\n",
       "      <td>0</td>\n",
       "      <td>MTOR</td>\n",
       "      <td>D2512H</td>\n",
       "      <td>Genes encoding components of the PI3K-Akt-mTOR...</td>\n",
       "    </tr>\n",
       "    <tr>\n",
       "      <th>2</th>\n",
       "      <td>21</td>\n",
       "      <td>0</td>\n",
       "      <td>1</td>\n",
       "      <td>0</td>\n",
       "      <td>0</td>\n",
       "      <td>0</td>\n",
       "      <td>0</td>\n",
       "      <td>0</td>\n",
       "      <td>0</td>\n",
       "      <td>0</td>\n",
       "      <td>KIT</td>\n",
       "      <td>D52N</td>\n",
       "      <td>Myeloproliferative disorders (MPD) constitute ...</td>\n",
       "    </tr>\n",
       "    <tr>\n",
       "      <th>3</th>\n",
       "      <td>55</td>\n",
       "      <td>0</td>\n",
       "      <td>0</td>\n",
       "      <td>0</td>\n",
       "      <td>1</td>\n",
       "      <td>0</td>\n",
       "      <td>0</td>\n",
       "      <td>0</td>\n",
       "      <td>0</td>\n",
       "      <td>0</td>\n",
       "      <td>SPOP</td>\n",
       "      <td>F125V</td>\n",
       "      <td>In the largest E3 ligase subfamily, Cul3 binds...</td>\n",
       "    </tr>\n",
       "    <tr>\n",
       "      <th>4</th>\n",
       "      <td>64</td>\n",
       "      <td>0</td>\n",
       "      <td>0</td>\n",
       "      <td>0</td>\n",
       "      <td>1</td>\n",
       "      <td>0</td>\n",
       "      <td>0</td>\n",
       "      <td>0</td>\n",
       "      <td>0</td>\n",
       "      <td>0</td>\n",
       "      <td>KEAP1</td>\n",
       "      <td>C23Y</td>\n",
       "      <td>Keap1 is the substrate recognition module of a...</td>\n",
       "    </tr>\n",
       "  </tbody>\n",
       "</table>\n",
       "</div>"
      ],
      "text/plain": [
       "   ID  class1  class2  class3  class4  class5  class6  class7  class8  class9  \\\n",
       "0  12       1       0       0       0       0       0       0       0       0   \n",
       "1  19       0       1       0       0       0       0       0       0       0   \n",
       "2  21       0       1       0       0       0       0       0       0       0   \n",
       "3  55       0       0       0       1       0       0       0       0       0   \n",
       "4  64       0       0       0       1       0       0       0       0       0   \n",
       "\n",
       "    Gene Variation                                               Text  \n",
       "0   TET2    Y1902A  TET proteins oxidize 5-methylcytosine (5mC) on...  \n",
       "1   MTOR    D2512H  Genes encoding components of the PI3K-Akt-mTOR...  \n",
       "2    KIT      D52N  Myeloproliferative disorders (MPD) constitute ...  \n",
       "3   SPOP     F125V  In the largest E3 ligase subfamily, Cul3 binds...  \n",
       "4  KEAP1      C23Y  Keap1 is the substrate recognition module of a...  "
      ]
     },
     "execution_count": 29,
     "metadata": {},
     "output_type": "execute_result"
    }
   ],
   "source": [
    "print(df_test_reduced.shape)\n",
    "df_test_reduced.head()"
   ]
  },
  {
   "cell_type": "code",
   "execution_count": 30,
   "metadata": {},
   "outputs": [
    {
     "data": {
      "text/html": [
       "<div>\n",
       "<style>\n",
       "    .dataframe thead tr:only-child th {\n",
       "        text-align: right;\n",
       "    }\n",
       "\n",
       "    .dataframe thead th {\n",
       "        text-align: left;\n",
       "    }\n",
       "\n",
       "    .dataframe tbody tr th {\n",
       "        vertical-align: top;\n",
       "    }\n",
       "</style>\n",
       "<table border=\"1\" class=\"dataframe\">\n",
       "  <thead>\n",
       "    <tr style=\"text-align: right;\">\n",
       "      <th></th>\n",
       "      <th>ID</th>\n",
       "      <th>1</th>\n",
       "      <th>2</th>\n",
       "      <th>3</th>\n",
       "      <th>4</th>\n",
       "      <th>5</th>\n",
       "      <th>6</th>\n",
       "      <th>7</th>\n",
       "      <th>8</th>\n",
       "      <th>9</th>\n",
       "      <th>Gene</th>\n",
       "      <th>Variation</th>\n",
       "      <th>Text</th>\n",
       "    </tr>\n",
       "  </thead>\n",
       "  <tbody>\n",
       "    <tr>\n",
       "      <th>0</th>\n",
       "      <td>12</td>\n",
       "      <td>1</td>\n",
       "      <td>0</td>\n",
       "      <td>0</td>\n",
       "      <td>0</td>\n",
       "      <td>0</td>\n",
       "      <td>0</td>\n",
       "      <td>0</td>\n",
       "      <td>0</td>\n",
       "      <td>0</td>\n",
       "      <td>TET2</td>\n",
       "      <td>Y1902A</td>\n",
       "      <td>TET proteins oxidize 5-methylcytosine (5mC) on...</td>\n",
       "    </tr>\n",
       "    <tr>\n",
       "      <th>1</th>\n",
       "      <td>19</td>\n",
       "      <td>0</td>\n",
       "      <td>1</td>\n",
       "      <td>0</td>\n",
       "      <td>0</td>\n",
       "      <td>0</td>\n",
       "      <td>0</td>\n",
       "      <td>0</td>\n",
       "      <td>0</td>\n",
       "      <td>0</td>\n",
       "      <td>MTOR</td>\n",
       "      <td>D2512H</td>\n",
       "      <td>Genes encoding components of the PI3K-Akt-mTOR...</td>\n",
       "    </tr>\n",
       "    <tr>\n",
       "      <th>2</th>\n",
       "      <td>21</td>\n",
       "      <td>0</td>\n",
       "      <td>1</td>\n",
       "      <td>0</td>\n",
       "      <td>0</td>\n",
       "      <td>0</td>\n",
       "      <td>0</td>\n",
       "      <td>0</td>\n",
       "      <td>0</td>\n",
       "      <td>0</td>\n",
       "      <td>KIT</td>\n",
       "      <td>D52N</td>\n",
       "      <td>Myeloproliferative disorders (MPD) constitute ...</td>\n",
       "    </tr>\n",
       "    <tr>\n",
       "      <th>3</th>\n",
       "      <td>55</td>\n",
       "      <td>0</td>\n",
       "      <td>0</td>\n",
       "      <td>0</td>\n",
       "      <td>1</td>\n",
       "      <td>0</td>\n",
       "      <td>0</td>\n",
       "      <td>0</td>\n",
       "      <td>0</td>\n",
       "      <td>0</td>\n",
       "      <td>SPOP</td>\n",
       "      <td>F125V</td>\n",
       "      <td>In the largest E3 ligase subfamily, Cul3 binds...</td>\n",
       "    </tr>\n",
       "    <tr>\n",
       "      <th>4</th>\n",
       "      <td>64</td>\n",
       "      <td>0</td>\n",
       "      <td>0</td>\n",
       "      <td>0</td>\n",
       "      <td>1</td>\n",
       "      <td>0</td>\n",
       "      <td>0</td>\n",
       "      <td>0</td>\n",
       "      <td>0</td>\n",
       "      <td>0</td>\n",
       "      <td>KEAP1</td>\n",
       "      <td>C23Y</td>\n",
       "      <td>Keap1 is the substrate recognition module of a...</td>\n",
       "    </tr>\n",
       "  </tbody>\n",
       "</table>\n",
       "</div>"
      ],
      "text/plain": [
       "   ID  1  2  3  4  5  6  7  8  9   Gene Variation  \\\n",
       "0  12  1  0  0  0  0  0  0  0  0   TET2    Y1902A   \n",
       "1  19  0  1  0  0  0  0  0  0  0   MTOR    D2512H   \n",
       "2  21  0  1  0  0  0  0  0  0  0    KIT      D52N   \n",
       "3  55  0  0  0  1  0  0  0  0  0   SPOP     F125V   \n",
       "4  64  0  0  0  1  0  0  0  0  0  KEAP1      C23Y   \n",
       "\n",
       "                                                Text  \n",
       "0  TET proteins oxidize 5-methylcytosine (5mC) on...  \n",
       "1  Genes encoding components of the PI3K-Akt-mTOR...  \n",
       "2  Myeloproliferative disorders (MPD) constitute ...  \n",
       "3  In the largest E3 ligase subfamily, Cul3 binds...  \n",
       "4  Keap1 is the substrate recognition module of a...  "
      ]
     },
     "execution_count": 30,
     "metadata": {},
     "output_type": "execute_result"
    }
   ],
   "source": [
    "# Changing column names to numbers only so that they can be made into a single target column for model.\n",
    "df_test_reduced.rename(columns={'class1': \"1\", 'class2': \"2\", 'class3': \"3\", 'class4': \"4\", 'class5': \"5\", 'class6': '6', 'class7': \"7\", 'class8': \"8\", 'class9': \"9\"}, inplace=True)\n",
    "df_test_reduced.head()"
   ]
  },
  {
   "cell_type": "code",
   "execution_count": 78,
   "metadata": {},
   "outputs": [
    {
     "name": "stdout",
     "output_type": "stream",
     "text": [
      "(368,)\n",
      "2    53\n",
      "8    32\n",
      "4    20\n",
      "1     5\n",
      "7     5\n",
      "9     4\n",
      "5     3\n",
      "3     2\n",
      "6     1\n",
      "dtype: int64\n"
     ]
    }
   ],
   "source": [
    "# Creating y\n",
    "test_set_y = df_test_reduced.drop(['ID','Gene','Variation','Text'], axis=1).idxmax(axis=1)\n",
    "print(test_set_y.shape)\n",
    "print(test2_set_y.value_counts())"
   ]
  },
  {
   "cell_type": "code",
   "execution_count": 32,
   "metadata": {},
   "outputs": [
    {
     "name": "stdout",
     "output_type": "stream",
     "text": [
      "(368, 3)\n"
     ]
    },
    {
     "data": {
      "text/html": [
       "<div>\n",
       "<style>\n",
       "    .dataframe thead tr:only-child th {\n",
       "        text-align: right;\n",
       "    }\n",
       "\n",
       "    .dataframe thead th {\n",
       "        text-align: left;\n",
       "    }\n",
       "\n",
       "    .dataframe tbody tr th {\n",
       "        vertical-align: top;\n",
       "    }\n",
       "</style>\n",
       "<table border=\"1\" class=\"dataframe\">\n",
       "  <thead>\n",
       "    <tr style=\"text-align: right;\">\n",
       "      <th></th>\n",
       "      <th>Gene</th>\n",
       "      <th>Variation</th>\n",
       "      <th>Text</th>\n",
       "    </tr>\n",
       "  </thead>\n",
       "  <tbody>\n",
       "    <tr>\n",
       "      <th>0</th>\n",
       "      <td>TET2</td>\n",
       "      <td>Y1902A</td>\n",
       "      <td>TET proteins oxidize 5-methylcytosine (5mC) on...</td>\n",
       "    </tr>\n",
       "    <tr>\n",
       "      <th>1</th>\n",
       "      <td>MTOR</td>\n",
       "      <td>D2512H</td>\n",
       "      <td>Genes encoding components of the PI3K-Akt-mTOR...</td>\n",
       "    </tr>\n",
       "    <tr>\n",
       "      <th>2</th>\n",
       "      <td>KIT</td>\n",
       "      <td>D52N</td>\n",
       "      <td>Myeloproliferative disorders (MPD) constitute ...</td>\n",
       "    </tr>\n",
       "    <tr>\n",
       "      <th>3</th>\n",
       "      <td>SPOP</td>\n",
       "      <td>F125V</td>\n",
       "      <td>In the largest E3 ligase subfamily, Cul3 binds...</td>\n",
       "    </tr>\n",
       "    <tr>\n",
       "      <th>4</th>\n",
       "      <td>KEAP1</td>\n",
       "      <td>C23Y</td>\n",
       "      <td>Keap1 is the substrate recognition module of a...</td>\n",
       "    </tr>\n",
       "  </tbody>\n",
       "</table>\n",
       "</div>"
      ],
      "text/plain": [
       "    Gene Variation                                               Text\n",
       "0   TET2    Y1902A  TET proteins oxidize 5-methylcytosine (5mC) on...\n",
       "1   MTOR    D2512H  Genes encoding components of the PI3K-Akt-mTOR...\n",
       "2    KIT      D52N  Myeloproliferative disorders (MPD) constitute ...\n",
       "3   SPOP     F125V  In the largest E3 ligase subfamily, Cul3 binds...\n",
       "4  KEAP1      C23Y  Keap1 is the substrate recognition module of a..."
      ]
     },
     "execution_count": 32,
     "metadata": {},
     "output_type": "execute_result"
    }
   ],
   "source": [
    "# Creating X\n",
    "test_set_X = df_test_reduced.drop(['ID','1','2','3','4','5','6','7','8','9'], axis=1)\n",
    "print(test_set_X.shape)\n",
    "test_set_X.head()"
   ]
  },
  {
   "cell_type": "markdown",
   "metadata": {},
   "source": [
    "### Test data set 2 of 2"
   ]
  },
  {
   "cell_type": "markdown",
   "metadata": {},
   "source": [
    "EDA on second test set\n"
   ]
  },
  {
   "cell_type": "code",
   "execution_count": 144,
   "metadata": {
    "collapsed": true
   },
   "outputs": [],
   "source": [
    "# Merge Test text and Test var dataframes\n",
    "df_test2 = test2_var.merge(test2_txt, on='ID')"
   ]
  },
  {
   "cell_type": "code",
   "execution_count": 147,
   "metadata": {},
   "outputs": [
    {
     "data": {
      "text/html": [
       "<div>\n",
       "<style>\n",
       "    .dataframe thead tr:only-child th {\n",
       "        text-align: right;\n",
       "    }\n",
       "\n",
       "    .dataframe thead th {\n",
       "        text-align: left;\n",
       "    }\n",
       "\n",
       "    .dataframe tbody tr th {\n",
       "        vertical-align: top;\n",
       "    }\n",
       "</style>\n",
       "<table border=\"1\" class=\"dataframe\">\n",
       "  <thead>\n",
       "    <tr style=\"text-align: right;\">\n",
       "      <th></th>\n",
       "      <th>ID</th>\n",
       "      <th>Gene</th>\n",
       "      <th>Variation</th>\n",
       "      <th>Text</th>\n",
       "    </tr>\n",
       "  </thead>\n",
       "  <tbody>\n",
       "    <tr>\n",
       "      <th>0</th>\n",
       "      <td>1</td>\n",
       "      <td>CHEK2</td>\n",
       "      <td>H371Y</td>\n",
       "      <td>The incidence of breast cancer is increasing i...</td>\n",
       "    </tr>\n",
       "    <tr>\n",
       "      <th>1</th>\n",
       "      <td>2</td>\n",
       "      <td>AXIN2</td>\n",
       "      <td>Truncating Mutations</td>\n",
       "      <td>An unselected series of 310 colorectal carcino...</td>\n",
       "    </tr>\n",
       "    <tr>\n",
       "      <th>2</th>\n",
       "      <td>3</td>\n",
       "      <td>WNT4</td>\n",
       "      <td>E216G</td>\n",
       "      <td>Mycosis fungoides and Sézary syndrome are prim...</td>\n",
       "    </tr>\n",
       "    <tr>\n",
       "      <th>3</th>\n",
       "      <td>4</td>\n",
       "      <td>SUCLA2</td>\n",
       "      <td>G118R</td>\n",
       "      <td>Regulated progression through the cell cycle ...</td>\n",
       "    </tr>\n",
       "    <tr>\n",
       "      <th>4</th>\n",
       "      <td>5</td>\n",
       "      <td>BRAF</td>\n",
       "      <td>T599insTT</td>\n",
       "      <td>Pilocytic astrocytoma (PA) is emerging as a tu...</td>\n",
       "    </tr>\n",
       "  </tbody>\n",
       "</table>\n",
       "</div>"
      ],
      "text/plain": [
       "   ID    Gene             Variation  \\\n",
       "0   1   CHEK2                 H371Y   \n",
       "1   2   AXIN2  Truncating Mutations   \n",
       "2   3    WNT4                 E216G   \n",
       "3   4  SUCLA2                 G118R   \n",
       "4   5    BRAF             T599insTT   \n",
       "\n",
       "                                                Text  \n",
       "0  The incidence of breast cancer is increasing i...  \n",
       "1  An unselected series of 310 colorectal carcino...  \n",
       "2  Mycosis fungoides and Sézary syndrome are prim...  \n",
       "3   Regulated progression through the cell cycle ...  \n",
       "4  Pilocytic astrocytoma (PA) is emerging as a tu...  "
      ]
     },
     "execution_count": 147,
     "metadata": {},
     "output_type": "execute_result"
    }
   ],
   "source": [
    "df_test2.head()"
   ]
  },
  {
   "cell_type": "code",
   "execution_count": 128,
   "metadata": {
    "scrolled": true
   },
   "outputs": [
    {
     "data": {
      "text/plain": [
       "ID           0\n",
       "Gene         0\n",
       "Variation    0\n",
       "Text         0\n",
       "dtype: int64"
      ]
     },
     "execution_count": 128,
     "metadata": {},
     "output_type": "execute_result"
    }
   ],
   "source": [
    "# No null values\n",
    "df_test2.isnull().sum()"
   ]
  },
  {
   "cell_type": "code",
   "execution_count": 148,
   "metadata": {
    "collapsed": true
   },
   "outputs": [],
   "source": [
    "# df_test2_wo_ID will be used to get Kaggle submission\n",
    "df_test2_wo_ID = df_test2.drop(['ID'], axis=1)"
   ]
  },
  {
   "cell_type": "code",
   "execution_count": 130,
   "metadata": {},
   "outputs": [],
   "source": [
    "# Merge target with X\n",
    "df_test2_with_target = df_test2_target.merge(df_test2, on='ID')"
   ]
  },
  {
   "cell_type": "code",
   "execution_count": 134,
   "metadata": {},
   "outputs": [
    {
     "data": {
      "text/plain": [
       "(125, 13)"
      ]
     },
     "execution_count": 134,
     "metadata": {},
     "output_type": "execute_result"
    }
   ],
   "source": [
    "# The rows in df_test2_with_target drop to 125, as opposed to the 986 in the df_test2 due to them only releasing the target for the cases that were manually assigned and not assigned by a machine. \n",
    "df_test2_with_target.shape"
   ]
  },
  {
   "cell_type": "code",
   "execution_count": 69,
   "metadata": {},
   "outputs": [
    {
     "name": "stdout",
     "output_type": "stream",
     "text": [
      "(125, 13)\n"
     ]
    },
    {
     "data": {
      "text/html": [
       "<div>\n",
       "<style>\n",
       "    .dataframe thead tr:only-child th {\n",
       "        text-align: right;\n",
       "    }\n",
       "\n",
       "    .dataframe thead th {\n",
       "        text-align: left;\n",
       "    }\n",
       "\n",
       "    .dataframe tbody tr th {\n",
       "        vertical-align: top;\n",
       "    }\n",
       "</style>\n",
       "<table border=\"1\" class=\"dataframe\">\n",
       "  <thead>\n",
       "    <tr style=\"text-align: right;\">\n",
       "      <th></th>\n",
       "      <th>ID</th>\n",
       "      <th>class1</th>\n",
       "      <th>class2</th>\n",
       "      <th>class3</th>\n",
       "      <th>class4</th>\n",
       "      <th>class5</th>\n",
       "      <th>class6</th>\n",
       "      <th>class7</th>\n",
       "      <th>class8</th>\n",
       "      <th>class9</th>\n",
       "      <th>Gene</th>\n",
       "      <th>Variation</th>\n",
       "      <th>Text</th>\n",
       "    </tr>\n",
       "  </thead>\n",
       "  <tbody>\n",
       "    <tr>\n",
       "      <th>0</th>\n",
       "      <td>8</td>\n",
       "      <td>0</td>\n",
       "      <td>0</td>\n",
       "      <td>0</td>\n",
       "      <td>1</td>\n",
       "      <td>0</td>\n",
       "      <td>0</td>\n",
       "      <td>0</td>\n",
       "      <td>0</td>\n",
       "      <td>0</td>\n",
       "      <td>RNF6</td>\n",
       "      <td>G244D</td>\n",
       "      <td>Human ESCCs 2 occur frequently worldwide (1) ....</td>\n",
       "    </tr>\n",
       "    <tr>\n",
       "      <th>1</th>\n",
       "      <td>15</td>\n",
       "      <td>0</td>\n",
       "      <td>0</td>\n",
       "      <td>0</td>\n",
       "      <td>0</td>\n",
       "      <td>0</td>\n",
       "      <td>0</td>\n",
       "      <td>0</td>\n",
       "      <td>0</td>\n",
       "      <td>1</td>\n",
       "      <td>ERBB2</td>\n",
       "      <td>G746S</td>\n",
       "      <td>The protein-kinase family is the most frequent...</td>\n",
       "    </tr>\n",
       "    <tr>\n",
       "      <th>2</th>\n",
       "      <td>16</td>\n",
       "      <td>0</td>\n",
       "      <td>0</td>\n",
       "      <td>0</td>\n",
       "      <td>0</td>\n",
       "      <td>0</td>\n",
       "      <td>0</td>\n",
       "      <td>0</td>\n",
       "      <td>1</td>\n",
       "      <td>0</td>\n",
       "      <td>TP53</td>\n",
       "      <td>Y234S</td>\n",
       "      <td>Among the best-studied therapeutic targets in ...</td>\n",
       "    </tr>\n",
       "    <tr>\n",
       "      <th>3</th>\n",
       "      <td>18</td>\n",
       "      <td>0</td>\n",
       "      <td>1</td>\n",
       "      <td>0</td>\n",
       "      <td>0</td>\n",
       "      <td>0</td>\n",
       "      <td>0</td>\n",
       "      <td>0</td>\n",
       "      <td>0</td>\n",
       "      <td>0</td>\n",
       "      <td>EGFR</td>\n",
       "      <td>P546S</td>\n",
       "      <td>Head and neck squamous cell carcinoma (HNSCC) ...</td>\n",
       "    </tr>\n",
       "    <tr>\n",
       "      <th>4</th>\n",
       "      <td>19</td>\n",
       "      <td>0</td>\n",
       "      <td>1</td>\n",
       "      <td>0</td>\n",
       "      <td>0</td>\n",
       "      <td>0</td>\n",
       "      <td>0</td>\n",
       "      <td>0</td>\n",
       "      <td>0</td>\n",
       "      <td>0</td>\n",
       "      <td>ERBB2</td>\n",
       "      <td>G279E</td>\n",
       "      <td>Functional characterization of cancer-associat...</td>\n",
       "    </tr>\n",
       "  </tbody>\n",
       "</table>\n",
       "</div>"
      ],
      "text/plain": [
       "   ID  class1  class2  class3  class4  class5  class6  class7  class8  class9  \\\n",
       "0   8       0       0       0       1       0       0       0       0       0   \n",
       "1  15       0       0       0       0       0       0       0       0       1   \n",
       "2  16       0       0       0       0       0       0       0       1       0   \n",
       "3  18       0       1       0       0       0       0       0       0       0   \n",
       "4  19       0       1       0       0       0       0       0       0       0   \n",
       "\n",
       "    Gene Variation                                               Text  \n",
       "0   RNF6     G244D  Human ESCCs 2 occur frequently worldwide (1) ....  \n",
       "1  ERBB2     G746S  The protein-kinase family is the most frequent...  \n",
       "2   TP53     Y234S  Among the best-studied therapeutic targets in ...  \n",
       "3   EGFR     P546S  Head and neck squamous cell carcinoma (HNSCC) ...  \n",
       "4  ERBB2     G279E  Functional characterization of cancer-associat...  "
      ]
     },
     "execution_count": 69,
     "metadata": {},
     "output_type": "execute_result"
    }
   ],
   "source": [
    "print(df_test2_with_target.shape)\n",
    "df_test2_with_target.head()"
   ]
  },
  {
   "cell_type": "code",
   "execution_count": 73,
   "metadata": {},
   "outputs": [
    {
     "data": {
      "text/html": [
       "<div>\n",
       "<style>\n",
       "    .dataframe thead tr:only-child th {\n",
       "        text-align: right;\n",
       "    }\n",
       "\n",
       "    .dataframe thead th {\n",
       "        text-align: left;\n",
       "    }\n",
       "\n",
       "    .dataframe tbody tr th {\n",
       "        vertical-align: top;\n",
       "    }\n",
       "</style>\n",
       "<table border=\"1\" class=\"dataframe\">\n",
       "  <thead>\n",
       "    <tr style=\"text-align: right;\">\n",
       "      <th></th>\n",
       "      <th>ID</th>\n",
       "      <th>1</th>\n",
       "      <th>2</th>\n",
       "      <th>3</th>\n",
       "      <th>4</th>\n",
       "      <th>5</th>\n",
       "      <th>6</th>\n",
       "      <th>7</th>\n",
       "      <th>8</th>\n",
       "      <th>9</th>\n",
       "      <th>Gene</th>\n",
       "      <th>Variation</th>\n",
       "      <th>Text</th>\n",
       "    </tr>\n",
       "  </thead>\n",
       "  <tbody>\n",
       "    <tr>\n",
       "      <th>0</th>\n",
       "      <td>8</td>\n",
       "      <td>0</td>\n",
       "      <td>0</td>\n",
       "      <td>0</td>\n",
       "      <td>1</td>\n",
       "      <td>0</td>\n",
       "      <td>0</td>\n",
       "      <td>0</td>\n",
       "      <td>0</td>\n",
       "      <td>0</td>\n",
       "      <td>RNF6</td>\n",
       "      <td>G244D</td>\n",
       "      <td>Human ESCCs 2 occur frequently worldwide (1) ....</td>\n",
       "    </tr>\n",
       "    <tr>\n",
       "      <th>1</th>\n",
       "      <td>15</td>\n",
       "      <td>0</td>\n",
       "      <td>0</td>\n",
       "      <td>0</td>\n",
       "      <td>0</td>\n",
       "      <td>0</td>\n",
       "      <td>0</td>\n",
       "      <td>0</td>\n",
       "      <td>0</td>\n",
       "      <td>1</td>\n",
       "      <td>ERBB2</td>\n",
       "      <td>G746S</td>\n",
       "      <td>The protein-kinase family is the most frequent...</td>\n",
       "    </tr>\n",
       "    <tr>\n",
       "      <th>2</th>\n",
       "      <td>16</td>\n",
       "      <td>0</td>\n",
       "      <td>0</td>\n",
       "      <td>0</td>\n",
       "      <td>0</td>\n",
       "      <td>0</td>\n",
       "      <td>0</td>\n",
       "      <td>0</td>\n",
       "      <td>1</td>\n",
       "      <td>0</td>\n",
       "      <td>TP53</td>\n",
       "      <td>Y234S</td>\n",
       "      <td>Among the best-studied therapeutic targets in ...</td>\n",
       "    </tr>\n",
       "    <tr>\n",
       "      <th>3</th>\n",
       "      <td>18</td>\n",
       "      <td>0</td>\n",
       "      <td>1</td>\n",
       "      <td>0</td>\n",
       "      <td>0</td>\n",
       "      <td>0</td>\n",
       "      <td>0</td>\n",
       "      <td>0</td>\n",
       "      <td>0</td>\n",
       "      <td>0</td>\n",
       "      <td>EGFR</td>\n",
       "      <td>P546S</td>\n",
       "      <td>Head and neck squamous cell carcinoma (HNSCC) ...</td>\n",
       "    </tr>\n",
       "    <tr>\n",
       "      <th>4</th>\n",
       "      <td>19</td>\n",
       "      <td>0</td>\n",
       "      <td>1</td>\n",
       "      <td>0</td>\n",
       "      <td>0</td>\n",
       "      <td>0</td>\n",
       "      <td>0</td>\n",
       "      <td>0</td>\n",
       "      <td>0</td>\n",
       "      <td>0</td>\n",
       "      <td>ERBB2</td>\n",
       "      <td>G279E</td>\n",
       "      <td>Functional characterization of cancer-associat...</td>\n",
       "    </tr>\n",
       "  </tbody>\n",
       "</table>\n",
       "</div>"
      ],
      "text/plain": [
       "   ID  1  2  3  4  5  6  7  8  9   Gene Variation  \\\n",
       "0   8  0  0  0  1  0  0  0  0  0   RNF6     G244D   \n",
       "1  15  0  0  0  0  0  0  0  0  1  ERBB2     G746S   \n",
       "2  16  0  0  0  0  0  0  0  1  0   TP53     Y234S   \n",
       "3  18  0  1  0  0  0  0  0  0  0   EGFR     P546S   \n",
       "4  19  0  1  0  0  0  0  0  0  0  ERBB2     G279E   \n",
       "\n",
       "                                                Text  \n",
       "0  Human ESCCs 2 occur frequently worldwide (1) ....  \n",
       "1  The protein-kinase family is the most frequent...  \n",
       "2  Among the best-studied therapeutic targets in ...  \n",
       "3  Head and neck squamous cell carcinoma (HNSCC) ...  \n",
       "4  Functional characterization of cancer-associat...  "
      ]
     },
     "execution_count": 73,
     "metadata": {},
     "output_type": "execute_result"
    }
   ],
   "source": [
    "# Changing column names to numbers only so that they can be made into a single target column for model.\n",
    "df_test2_with_target.rename(columns={'class1': \"1\", 'class2': \"2\", 'class3': \"3\", 'class4': \"4\", 'class5': \"5\", 'class6': '6', 'class7': \"7\", 'class8': \"8\", 'class9': \"9\"}, inplace=True)\n",
    "df_test2_with_target.head()"
   ]
  },
  {
   "cell_type": "code",
   "execution_count": 79,
   "metadata": {},
   "outputs": [
    {
     "name": "stdout",
     "output_type": "stream",
     "text": [
      "(125,)\n",
      "2    53\n",
      "8    32\n",
      "4    20\n",
      "1     5\n",
      "7     5\n",
      "9     4\n",
      "5     3\n",
      "3     2\n",
      "6     1\n",
      "dtype: int64\n"
     ]
    }
   ],
   "source": [
    "# Creating y\n",
    "test2_set_y = df_test2_with_target.drop(['ID','Gene','Variation','Text'], axis=1).idxmax(axis=1)\n",
    "print(test2_set_y.shape)\n",
    "print(test2_set_y.value_counts())"
   ]
  },
  {
   "cell_type": "code",
   "execution_count": 80,
   "metadata": {},
   "outputs": [
    {
     "name": "stdout",
     "output_type": "stream",
     "text": [
      "(125, 3)\n"
     ]
    },
    {
     "data": {
      "text/html": [
       "<div>\n",
       "<style>\n",
       "    .dataframe thead tr:only-child th {\n",
       "        text-align: right;\n",
       "    }\n",
       "\n",
       "    .dataframe thead th {\n",
       "        text-align: left;\n",
       "    }\n",
       "\n",
       "    .dataframe tbody tr th {\n",
       "        vertical-align: top;\n",
       "    }\n",
       "</style>\n",
       "<table border=\"1\" class=\"dataframe\">\n",
       "  <thead>\n",
       "    <tr style=\"text-align: right;\">\n",
       "      <th></th>\n",
       "      <th>Gene</th>\n",
       "      <th>Variation</th>\n",
       "      <th>Text</th>\n",
       "    </tr>\n",
       "  </thead>\n",
       "  <tbody>\n",
       "    <tr>\n",
       "      <th>0</th>\n",
       "      <td>RNF6</td>\n",
       "      <td>G244D</td>\n",
       "      <td>Human ESCCs 2 occur frequently worldwide (1) ....</td>\n",
       "    </tr>\n",
       "    <tr>\n",
       "      <th>1</th>\n",
       "      <td>ERBB2</td>\n",
       "      <td>G746S</td>\n",
       "      <td>The protein-kinase family is the most frequent...</td>\n",
       "    </tr>\n",
       "    <tr>\n",
       "      <th>2</th>\n",
       "      <td>TP53</td>\n",
       "      <td>Y234S</td>\n",
       "      <td>Among the best-studied therapeutic targets in ...</td>\n",
       "    </tr>\n",
       "    <tr>\n",
       "      <th>3</th>\n",
       "      <td>EGFR</td>\n",
       "      <td>P546S</td>\n",
       "      <td>Head and neck squamous cell carcinoma (HNSCC) ...</td>\n",
       "    </tr>\n",
       "    <tr>\n",
       "      <th>4</th>\n",
       "      <td>ERBB2</td>\n",
       "      <td>G279E</td>\n",
       "      <td>Functional characterization of cancer-associat...</td>\n",
       "    </tr>\n",
       "  </tbody>\n",
       "</table>\n",
       "</div>"
      ],
      "text/plain": [
       "    Gene Variation                                               Text\n",
       "0   RNF6     G244D  Human ESCCs 2 occur frequently worldwide (1) ....\n",
       "1  ERBB2     G746S  The protein-kinase family is the most frequent...\n",
       "2   TP53     Y234S  Among the best-studied therapeutic targets in ...\n",
       "3   EGFR     P546S  Head and neck squamous cell carcinoma (HNSCC) ...\n",
       "4  ERBB2     G279E  Functional characterization of cancer-associat..."
      ]
     },
     "execution_count": 80,
     "metadata": {},
     "output_type": "execute_result"
    }
   ],
   "source": [
    "# Creating X\n",
    "test2_set_X = df_test2_with_target.drop(['ID','1','2','3','4','5','6','7','8','9'], axis=1)\n",
    "print(test2_set_X.shape)\n",
    "test2_set_X.head()"
   ]
  },
  {
   "cell_type": "markdown",
   "metadata": {
    "collapsed": true
   },
   "source": [
    "# Modeling\n"
   ]
  },
  {
   "cell_type": "markdown",
   "metadata": {},
   "source": [
    "#### Defining classes"
   ]
  },
  {
   "cell_type": "code",
   "execution_count": 33,
   "metadata": {
    "collapsed": true
   },
   "outputs": [],
   "source": [
    "class CategoricalExtractor(BaseEstimator, TransformerMixin):\n",
    "    \"\"\"\n",
    "    One-hot-encodes a categorical (string) column.\n",
    "    \"\"\"\n",
    "    def __init__(self, column):\n",
    "        self.column = column\n",
    "        self.values = None\n",
    "        \n",
    "    def _create_values(self, indices):\n",
    "        return {ind: i+1 for i, ind in enumerate(indices)}\n",
    "    \n",
    "    def _apply_values(self, row_val):\n",
    "        return self.values.get(row_val, 0)\n",
    "        \n",
    "    def fit(self, X, y=None):\n",
    "        self.values = self._create_values(X[self.column].value_counts().index)\n",
    "        return self \n",
    "    \n",
    "    def transform(self, X, y=None):\n",
    "        col = X[self.column].apply(self._apply_values)\n",
    "        return col.values.reshape(-1, 1)"
   ]
  },
  {
   "cell_type": "markdown",
   "metadata": {},
   "source": [
    "## Feed Forward Neral Net with Keras"
   ]
  },
  {
   "cell_type": "code",
   "execution_count": 44,
   "metadata": {
    "collapsed": true
   },
   "outputs": [],
   "source": [
    "# Setting up pipelines\n",
    "\n",
    "gene_pipe = make_pipeline(\n",
    "CategoricalExtractor('Gene'),\n",
    "OneHotEncoder(sparse=False, handle_unknown='ignore')\n",
    ")\n",
    "\n",
    "var_pipe = make_pipeline(\n",
    "CategoricalExtractor('Variation'),\n",
    "OneHotEncoder(sparse=False, handle_unknown='ignore')\n",
    ")\n",
    "\n",
    "text_pipe_k = make_pipeline(\n",
    "FunctionTransformer(lambda df: df['Text'], validate=False), \n",
    "CountVectorizer(stop_words='english'), # There were 41028 features output from the CountVectorizer for the training set.\n",
    "TruncatedSVD(n_components=5000) \n",
    ")\n",
    "\n",
    "fu = make_union(text_pipe_k, gene_pipe, var_pipe)"
   ]
  },
  {
   "cell_type": "code",
   "execution_count": 45,
   "metadata": {
    "collapsed": true
   },
   "outputs": [],
   "source": [
    "# Function to create model, required for KerasClassifier\n",
    "def create_model(input_dim=30):\n",
    "    # create model\n",
    "    model = Sequential()\n",
    "    model.add(Dense(100, input_dim=input_dim, activation='relu'))\n",
    "    model.add(Dropout(0.5, seed=42)) # 50% dropout with 42 random state\n",
    "    model.add(Dense(9, activation='softmax')) # Activation function for the final output layer \n",
    "                                              # needs to be softmax to accomidate the nine \n",
    "                                              # different classes.\n",
    "\n",
    "    # Compile model\n",
    "    model.compile(loss='categorical_crossentropy', optimizer='adam', metrics=['accuracy'])\n",
    "    return model"
   ]
  },
  {
   "cell_type": "code",
   "execution_count": 46,
   "metadata": {
    "collapsed": true
   },
   "outputs": [],
   "source": [
    "# Allows the number of features to be input automatically.\n",
    "X_train_ap = fu.fit_transform(X_train) "
   ]
  },
  {
   "cell_type": "code",
   "execution_count": 47,
   "metadata": {
    "collapsed": true
   },
   "outputs": [],
   "source": [
    "model_keras = KerasClassifier(build_fn=create_model, input_dim=X_train_ap.shape[1], epochs=20, batch_size=10, verbose=1)"
   ]
  },
  {
   "cell_type": "code",
   "execution_count": 48,
   "metadata": {},
   "outputs": [
    {
     "name": "stdout",
     "output_type": "stream",
     "text": [
      "Epoch 1/20\n",
      "2225/2225 [==============================] - 1s 400us/step - loss: 5.7957 - acc: 0.3793\n",
      "Epoch 2/20\n",
      "2225/2225 [==============================] - 1s 357us/step - loss: 2.9306 - acc: 0.6103\n",
      "Epoch 3/20\n",
      "2225/2225 [==============================] - 1s 370us/step - loss: 2.0079 - acc: 0.6804\n",
      "Epoch 4/20\n",
      "2225/2225 [==============================] - 1s 409us/step - loss: 1.3829 - acc: 0.7178\n",
      "Epoch 5/20\n",
      "2225/2225 [==============================] - 1s 369us/step - loss: 1.1102 - acc: 0.7321\n",
      "Epoch 6/20\n",
      "2225/2225 [==============================] - 1s 368us/step - loss: 0.9168 - acc: 0.7613\n",
      "Epoch 7/20\n",
      "2225/2225 [==============================] - 1s 363us/step - loss: 0.8316 - acc: 0.7681\n",
      "Epoch 8/20\n",
      "2225/2225 [==============================] - 1s 366us/step - loss: 0.7541 - acc: 0.7820\n",
      "Epoch 9/20\n",
      "2225/2225 [==============================] - 1s 366us/step - loss: 0.7015 - acc: 0.7834\n",
      "Epoch 10/20\n",
      "2225/2225 [==============================] - 1s 367us/step - loss: 0.6520 - acc: 0.7964\n",
      "Epoch 11/20\n",
      "2225/2225 [==============================] - 1s 362us/step - loss: 0.6668 - acc: 0.7856\n",
      "Epoch 12/20\n",
      "2225/2225 [==============================] - 1s 358us/step - loss: 0.6070 - acc: 0.7982\n",
      "Epoch 13/20\n",
      "2225/2225 [==============================] - 1s 357us/step - loss: 0.6237 - acc: 0.7946\n",
      "Epoch 14/20\n",
      "2225/2225 [==============================] - 1s 368us/step - loss: 0.6050 - acc: 0.7919\n",
      "Epoch 15/20\n",
      "2225/2225 [==============================] - 1s 358us/step - loss: 0.5930 - acc: 0.7996\n",
      "Epoch 16/20\n",
      "2225/2225 [==============================] - 1s 354us/step - loss: 0.5923 - acc: 0.7879\n",
      "Epoch 17/20\n",
      "2225/2225 [==============================] - 1s 354us/step - loss: 0.5891 - acc: 0.7978\n",
      "Epoch 18/20\n",
      "2225/2225 [==============================] - 1s 354us/step - loss: 0.6003 - acc: 0.7937\n",
      "Epoch 19/20\n",
      "2225/2225 [==============================] - 1s 360us/step - loss: 0.6871 - acc: 0.8022\n",
      "Epoch 20/20\n",
      "2225/2225 [==============================] - 1s 358us/step - loss: 0.6111 - acc: 0.7924\n"
     ]
    },
    {
     "data": {
      "text/plain": [
       "<keras.callbacks.History at 0x7f1cfd0ad470>"
      ]
     },
     "execution_count": 48,
     "metadata": {},
     "output_type": "execute_result"
    }
   ],
   "source": [
    "model_keras.fit(X_train_ap, y_train.values) # .values: pd df to numpy matrix"
   ]
  },
  {
   "cell_type": "markdown",
   "metadata": {},
   "source": [
    "---\n",
    "#### Score of test of test train split"
   ]
  },
  {
   "cell_type": "code",
   "execution_count": 54,
   "metadata": {},
   "outputs": [
    {
     "name": "stdout",
     "output_type": "stream",
     "text": [
      "1096/1096 [==============================] - 0s 134us/step\n"
     ]
    }
   ],
   "source": [
    "# percent likelyhood for each target\n",
    "model_keras.predict_proba(fu.transform(X_test))"
   ]
  },
  {
   "cell_type": "code",
   "execution_count": 50,
   "metadata": {},
   "outputs": [
    {
     "name": "stdout",
     "output_type": "stream",
     "text": [
      "1096/1096 [==============================] - 0s 168us/step\n"
     ]
    },
    {
     "data": {
      "text/plain": [
       "0.62043796099015391"
      ]
     },
     "execution_count": 50,
     "metadata": {},
     "output_type": "execute_result"
    }
   ],
   "source": [
    "model_keras.score(fu.transform(X_test), y_test)"
   ]
  },
  {
   "cell_type": "markdown",
   "metadata": {},
   "source": [
    "---\n",
    "#### Test set 1 of 2 score"
   ]
  },
  {
   "cell_type": "code",
   "execution_count": 51,
   "metadata": {},
   "outputs": [
    {
     "name": "stdout",
     "output_type": "stream",
     "text": [
      "368/368 [==============================] - 0s 135us/step\n"
     ]
    },
    {
     "data": {
      "text/plain": [
       "array([[  2.74480164e-01,   7.70533644e-03,   1.50055215e-02, ...,\n",
       "          1.81569681e-02,   7.29050674e-03,   1.60380993e-02],\n",
       "       [  3.20837971e-05,   2.14422983e-03,   1.81607783e-01, ...,\n",
       "          8.16051602e-01,   2.06294104e-07,   1.05418136e-08],\n",
       "       [  5.65940900e-05,   1.07384279e-01,   1.44713209e-04, ...,\n",
       "          8.91611099e-01,   5.65205411e-08,   6.46995986e-08],\n",
       "       ..., \n",
       "       [  3.70602311e-06,   6.81689755e-07,   1.83542193e-09, ...,\n",
       "          3.56124691e-03,   4.96119042e-13,   2.97155522e-10],\n",
       "       [  9.27962661e-01,   3.20937388e-10,   9.94537135e-13, ...,\n",
       "          1.18111210e-08,   2.05919603e-18,   1.38246585e-14],\n",
       "       [  6.74188195e-05,   1.58621907e-10,   3.78650583e-10, ...,\n",
       "          1.37839451e-09,   1.49683295e-16,   3.10283852e-12]], dtype=float32)"
      ]
     },
     "execution_count": 51,
     "metadata": {},
     "output_type": "execute_result"
    }
   ],
   "source": [
    "# percent likelyhood for each target\n",
    "model_keras.predict_proba(fu.transform(test_set_X))"
   ]
  },
  {
   "cell_type": "code",
   "execution_count": 52,
   "metadata": {},
   "outputs": [
    {
     "name": "stdout",
     "output_type": "stream",
     "text": [
      "368/368 [==============================] - 0s 153us/step\n"
     ]
    },
    {
     "data": {
      "text/plain": [
       "0.6277173895226873"
      ]
     },
     "execution_count": 52,
     "metadata": {},
     "output_type": "execute_result"
    }
   ],
   "source": [
    "model_keras.score(fu.transform(test_set_X), test_set_y.values.astype(int))"
   ]
  },
  {
   "cell_type": "markdown",
   "metadata": {},
   "source": [
    "---\n",
    "#### Test set 2 of 2 score \n",
    "#### I got a score of 2.57476 on Kaggle, which would have put me in top 27th percentile of submissions with the top score being 2.03026"
   ]
  },
  {
   "cell_type": "markdown",
   "metadata": {},
   "source": [
    "Part I: Getting a Kaggle submission"
   ]
  },
  {
   "cell_type": "code",
   "execution_count": 149,
   "metadata": {},
   "outputs": [
    {
     "name": "stdout",
     "output_type": "stream",
     "text": [
      "986/986 [==============================] - 0s 135us/step\n",
      "(986, 9)\n"
     ]
    },
    {
     "data": {
      "text/html": [
       "<div>\n",
       "<style>\n",
       "    .dataframe thead tr:only-child th {\n",
       "        text-align: right;\n",
       "    }\n",
       "\n",
       "    .dataframe thead th {\n",
       "        text-align: left;\n",
       "    }\n",
       "\n",
       "    .dataframe tbody tr th {\n",
       "        vertical-align: top;\n",
       "    }\n",
       "</style>\n",
       "<table border=\"1\" class=\"dataframe\">\n",
       "  <thead>\n",
       "    <tr style=\"text-align: right;\">\n",
       "      <th></th>\n",
       "      <th>class1</th>\n",
       "      <th>class2</th>\n",
       "      <th>class3</th>\n",
       "      <th>class4</th>\n",
       "      <th>class5</th>\n",
       "      <th>class6</th>\n",
       "      <th>class7</th>\n",
       "      <th>class8</th>\n",
       "      <th>class9</th>\n",
       "    </tr>\n",
       "    <tr>\n",
       "      <th>ID</th>\n",
       "      <th></th>\n",
       "      <th></th>\n",
       "      <th></th>\n",
       "      <th></th>\n",
       "      <th></th>\n",
       "      <th></th>\n",
       "      <th></th>\n",
       "      <th></th>\n",
       "      <th></th>\n",
       "    </tr>\n",
       "  </thead>\n",
       "  <tbody>\n",
       "    <tr>\n",
       "      <th>1</th>\n",
       "      <td>0.927428</td>\n",
       "      <td>0.001128</td>\n",
       "      <td>4.416669e-08</td>\n",
       "      <td>0.016553</td>\n",
       "      <td>0.005171</td>\n",
       "      <td>0.006269</td>\n",
       "      <td>0.043451</td>\n",
       "      <td>1.255197e-09</td>\n",
       "      <td>1.514747e-09</td>\n",
       "    </tr>\n",
       "    <tr>\n",
       "      <th>2</th>\n",
       "      <td>0.819531</td>\n",
       "      <td>0.004508</td>\n",
       "      <td>6.535748e-06</td>\n",
       "      <td>0.069764</td>\n",
       "      <td>0.087924</td>\n",
       "      <td>0.013109</td>\n",
       "      <td>0.005157</td>\n",
       "      <td>3.803157e-08</td>\n",
       "      <td>1.115752e-08</td>\n",
       "    </tr>\n",
       "    <tr>\n",
       "      <th>3</th>\n",
       "      <td>0.064044</td>\n",
       "      <td>0.404088</td>\n",
       "      <td>3.162329e-03</td>\n",
       "      <td>0.035775</td>\n",
       "      <td>0.092211</td>\n",
       "      <td>0.045170</td>\n",
       "      <td>0.354692</td>\n",
       "      <td>6.945976e-04</td>\n",
       "      <td>1.624007e-04</td>\n",
       "    </tr>\n",
       "    <tr>\n",
       "      <th>4</th>\n",
       "      <td>0.000386</td>\n",
       "      <td>0.433296</td>\n",
       "      <td>5.450063e-05</td>\n",
       "      <td>0.000153</td>\n",
       "      <td>0.000307</td>\n",
       "      <td>0.021203</td>\n",
       "      <td>0.544259</td>\n",
       "      <td>4.240455e-05</td>\n",
       "      <td>2.996300e-04</td>\n",
       "    </tr>\n",
       "    <tr>\n",
       "      <th>5</th>\n",
       "      <td>0.014029</td>\n",
       "      <td>0.036471</td>\n",
       "      <td>2.506539e-03</td>\n",
       "      <td>0.000416</td>\n",
       "      <td>0.007476</td>\n",
       "      <td>0.000663</td>\n",
       "      <td>0.938367</td>\n",
       "      <td>3.011443e-05</td>\n",
       "      <td>4.214666e-05</td>\n",
       "    </tr>\n",
       "  </tbody>\n",
       "</table>\n",
       "</div>"
      ],
      "text/plain": [
       "      class1    class2        class3    class4    class5    class6    class7  \\\n",
       "ID                                                                             \n",
       "1   0.927428  0.001128  4.416669e-08  0.016553  0.005171  0.006269  0.043451   \n",
       "2   0.819531  0.004508  6.535748e-06  0.069764  0.087924  0.013109  0.005157   \n",
       "3   0.064044  0.404088  3.162329e-03  0.035775  0.092211  0.045170  0.354692   \n",
       "4   0.000386  0.433296  5.450063e-05  0.000153  0.000307  0.021203  0.544259   \n",
       "5   0.014029  0.036471  2.506539e-03  0.000416  0.007476  0.000663  0.938367   \n",
       "\n",
       "          class8        class9  \n",
       "ID                              \n",
       "1   1.255197e-09  1.514747e-09  \n",
       "2   3.803157e-08  1.115752e-08  \n",
       "3   6.945976e-04  1.624007e-04  \n",
       "4   4.240455e-05  2.996300e-04  \n",
       "5   3.011443e-05  4.214666e-05  "
      ]
     },
     "execution_count": 149,
     "metadata": {},
     "output_type": "execute_result"
    }
   ],
   "source": [
    "# percent likelyhood for each target\n",
    "pred_test2 = model_keras.predict_proba(fu.transform(df_test2_wo_ID))\n",
    "\n",
    "# merging the id column with predicted outputs\n",
    "pred_test2 = df_test2[['ID']].merge(pd.DataFrame(pred_test2), left_index=True, right_index=True)\n",
    "pred_test2.rename(columns={0: \"class1\", 1: \"class2\", 2: \"class3\", 3: \"class4\", 4: \"class5\", 5: 'class6', 6: \"class7\", 7: \"class8\", 8: \"class9\"}, inplace=True)\n",
    "\n",
    "# making id the index\n",
    "pred_test2.index = pred_test2[\"ID\"]\n",
    "\n",
    "#removing repetitive id column\n",
    "pred_test2.drop(['ID'], axis=1, inplace=True)\n",
    "\n",
    "print(pred_test2.shape)\n",
    "pred_test2.head()"
   ]
  },
  {
   "cell_type": "code",
   "execution_count": 150,
   "metadata": {
    "collapsed": true
   },
   "outputs": [],
   "source": [
    "# Exporting to CSV to submit to Kaggle\n",
    "pred_test2.to_csv('pred_test2.csv')"
   ]
  },
  {
   "cell_type": "markdown",
   "metadata": {},
   "source": [
    "Part 2: Getting an R^2 score\n",
    "\n",
    "Score on a subset of the test set 2 of 2 (They only released the targets that were manually assigned and not machine generated.)"
   ]
  },
  {
   "cell_type": "code",
   "execution_count": 104,
   "metadata": {},
   "outputs": [
    {
     "name": "stdout",
     "output_type": "stream",
     "text": [
      "125/125 [==============================] - 0s 158us/step\n"
     ]
    },
    {
     "data": {
      "text/plain": [
       "0.13600000202655793"
      ]
     },
     "execution_count": 104,
     "metadata": {},
     "output_type": "execute_result"
    }
   ],
   "source": [
    "model_keras.score(fu.transform(test2_set_X), test2_set_y.values.astype(int))"
   ]
  },
  {
   "cell_type": "markdown",
   "metadata": {},
   "source": [
    "---\n",
    "Baseline accuracy based on traning data set"
   ]
  },
  {
   "cell_type": "code",
   "execution_count": 53,
   "metadata": {},
   "outputs": [
    {
     "data": {
      "text/plain": [
       "0.28696175850647393"
      ]
     },
     "execution_count": 53,
     "metadata": {},
     "output_type": "execute_result"
    }
   ],
   "source": [
    "y.value_counts().max()/y.value_counts().sum()"
   ]
  }
 ],
 "metadata": {
  "kernelspec": {
   "display_name": "Python 3",
   "language": "python",
   "name": "python3"
  },
  "language_info": {
   "codemirror_mode": {
    "name": "ipython",
    "version": 3
   },
   "file_extension": ".py",
   "mimetype": "text/x-python",
   "name": "python",
   "nbconvert_exporter": "python",
   "pygments_lexer": "ipython3",
   "version": "3.6.3"
  }
 },
 "nbformat": 4,
 "nbformat_minor": 2
}
